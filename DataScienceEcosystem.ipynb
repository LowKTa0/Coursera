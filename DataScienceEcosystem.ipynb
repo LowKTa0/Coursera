{
 "cells": [
  {
   "cell_type": "markdown",
   "metadata": {},
   "source": [
    "<center>\n",
    "    <img src=\"https://cf-courses-data.s3.us.cloud-object-storage.appdomain.cloud/IBMDeveloperSkillsNetwork-DS0105EN-SkillsNetwork/labs/Module2/images/SN_web_lightmode.png\" width=\"300\" alt=\"cognitiveclass.ai logo\">\n",
    "</center>\n"
   ]
  },
  {
   "cell_type": "markdown",
   "metadata": {},
   "source": [
    "#### Add your code below following the instructions given in the course\n"
   ]
  },
  {
   "cell_type": "code",
   "execution_count": 11,
   "metadata": {
    "tags": []
   },
   "outputs": [
    {
     "name": "stdout",
     "output_type": "stream",
     "text": [
      "# Data Science Tools and Ecosystem\n"
     ]
    }
   ],
   "source": [
    "print(\"# Data Science Tools and Ecosystem\")"
   ]
  },
  {
   "cell_type": "code",
   "execution_count": 12,
   "metadata": {
    "tags": []
   },
   "outputs": [
    {
     "name": "stdout",
     "output_type": "stream",
     "text": [
      "In this notebook, Data Science Tools and Ecosystem are summarized.\n"
     ]
    }
   ],
   "source": [
    "print(\"In this notebook, Data Science Tools and Ecosystem are summarized.\")"
   ]
  },
  {
   "cell_type": "code",
   "execution_count": 13,
   "metadata": {
    "tags": []
   },
   "outputs": [
    {
     "name": "stdout",
     "output_type": "stream",
     "text": [
      "Some of the popular languages that Data Scientists use are:\n",
      "1. Python\n",
      "2. R\n",
      "3. SQL\n"
     ]
    }
   ],
   "source": [
    "print(\"Some of the popular languages that Data Scientists use are:\")\n",
    "print(\"1. Python\\n2. R\\n3. SQL\")"
   ]
  },
  {
   "cell_type": "code",
   "execution_count": 14,
   "metadata": {
    "tags": []
   },
   "outputs": [
    {
     "name": "stdout",
     "output_type": "stream",
     "text": [
      "Some of the commonly used libraries used by Data Scientists include:\n",
      "1. Pandas\n",
      "2. NumPy\n",
      "3. Matplotlib\n"
     ]
    }
   ],
   "source": [
    "print(\"Some of the commonly used libraries used by Data Scientists include:\")\n",
    "print(\"1. Pandas\\n2. NumPy\\n3. Matplotlib\")"
   ]
  },
  {
   "cell_type": "code",
   "execution_count": 15,
   "metadata": {
    "tags": []
   },
   "outputs": [
    {
     "name": "stdout",
     "output_type": "stream",
     "text": [
      "| Data Science Tools |\n",
      "|--------------------|\n",
      "| Jupyter Notebook   |\n",
      "| RStudio            |\n",
      "| Spyder             |\n"
     ]
    }
   ],
   "source": [
    "print(\"| Data Science Tools |\\n|--------------------|\\n| Jupyter Notebook   |\\n| RStudio            |\\n| Spyder             |\")"
   ]
  },
  {
   "cell_type": "code",
   "execution_count": 16,
   "metadata": {
    "tags": []
   },
   "outputs": [
    {
     "name": "stdout",
     "output_type": "stream",
     "text": [
      "### Arithmetic Expression Examples\n",
      "\n",
      "Below are a few examples of evaluating arithmetic expressions in Python.\n"
     ]
    }
   ],
   "source": [
    "print(\"### Arithmetic Expression Examples\\n\\nBelow are a few examples of evaluating arithmetic expressions in Python.\")"
   ]
  },
  {
   "cell_type": "code",
   "execution_count": 17,
   "metadata": {
    "tags": []
   },
   "outputs": [
    {
     "name": "stdout",
     "output_type": "stream",
     "text": [
      "# This is a simple arithmetic expression to multiply then add integers\n",
      "17\n"
     ]
    }
   ],
   "source": [
    "print(\"# This is a simple arithmetic expression to multiply then add integers\")\n",
    "result = (3 * 4) + 5\n",
    "print(result)"
   ]
  },
  {
   "cell_type": "code",
   "execution_count": 18,
   "metadata": {
    "tags": []
   },
   "outputs": [
    {
     "name": "stdout",
     "output_type": "stream",
     "text": [
      "# This will convert 200 minutes to hours by dividing by 60\n",
      "3.3333333333333335\n"
     ]
    }
   ],
   "source": [
    "print(\"# This will convert 200 minutes to hours by dividing by 60\")\n",
    "hours = 200 / 60\n",
    "print(hours)"
   ]
  },
  {
   "cell_type": "code",
   "execution_count": 19,
   "metadata": {
    "tags": []
   },
   "outputs": [
    {
     "name": "stdout",
     "output_type": "stream",
     "text": [
      "**Objectives:**\n",
      "- List popular languages for Data Science\n",
      "- Introduce common libraries used in Data Science\n",
      "- Provide examples of arithmetic expressions in Python\n"
     ]
    }
   ],
   "source": [
    "print(\"**Objectives:**\\n- List popular languages for Data Science\\n- Introduce common libraries used in Data Science\\n- Provide examples of arithmetic expressions in Python\")"
   ]
  },
  {
   "cell_type": "code",
   "execution_count": 20,
   "metadata": {
    "tags": []
   },
   "outputs": [
    {
     "name": "stdout",
     "output_type": "stream",
     "text": [
      "## Author\n",
      "Low Ke Tao\n"
     ]
    }
   ],
   "source": [
    "print(\"## Author\\nLow Ke Tao\")"
   ]
  }
 ],
 "metadata": {
  "kernelspec": {
   "display_name": "Python",
   "language": "python",
   "name": "conda-env-python-py"
  },
  "language_info": {
   "codemirror_mode": {
    "name": "ipython",
    "version": 3
   },
   "file_extension": ".py",
   "mimetype": "text/x-python",
   "name": "python",
   "nbconvert_exporter": "python",
   "pygments_lexer": "ipython3",
   "version": "3.7.12"
  }
 },
 "nbformat": 4,
 "nbformat_minor": 4
}
